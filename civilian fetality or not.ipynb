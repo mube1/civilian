{
 "cells": [
  {
   "cell_type": "markdown",
   "id": "0a2e30d4",
   "metadata": {},
   "source": [
    "## The problem"
   ]
  },
  {
   "cell_type": "markdown",
   "id": "7aec0e66",
   "metadata": {},
   "source": [
    "The problem I am proposing is the prediction of civilian death in conflicts in regions in Ethiopia.\n",
    "I formulate the problem as a binary classification problem, given details of a conflict, an event, \n",
    "\n",
    "civilian death recorded = 1\n",
    "\n",
    "civilian death not recorded = 0"
   ]
  },
  {
   "cell_type": "markdown",
   "id": "3404d290",
   "metadata": {},
   "source": [
    "### Dataset and preprocessing \n",
    "\n",
    "#### To align the execrcise with both CARSA, my country and background, I intentionally searched for a valid dataset and thus decided to work on the Ethiopian conflict dataset from https://data.humdata.org/dataset/ucdp-data-for-ethiopia?force_layout=desktop"
   ]
  },
  {
   "cell_type": "code",
   "execution_count": 1,
   "id": "69caf719",
   "metadata": {},
   "outputs": [],
   "source": [
    "import numpy as np\n",
    "import pandas as pd\n",
    "import seaborn as sns\n",
    "import matplotlib.pyplot as plt\n",
    "\n",
    "from sklearn.preprocessing import LabelEncoder\n",
    "from sklearn.preprocessing import MinMaxScaler\n",
    "\n",
    "from sklearn.model_selection import train_test_split\n",
    "from sklearn.metrics import accuracy_score\n",
    "\n",
    "from datetime import date"
   ]
  },
  {
   "cell_type": "code",
   "execution_count": 2,
   "id": "975d3720",
   "metadata": {},
   "outputs": [
    {
     "data": {
      "text/html": [
       "<div>\n",
       "<style scoped>\n",
       "    .dataframe tbody tr th:only-of-type {\n",
       "        vertical-align: middle;\n",
       "    }\n",
       "\n",
       "    .dataframe tbody tr th {\n",
       "        vertical-align: top;\n",
       "    }\n",
       "\n",
       "    .dataframe thead th {\n",
       "        text-align: right;\n",
       "    }\n",
       "</style>\n",
       "<table border=\"1\" class=\"dataframe\">\n",
       "  <thead>\n",
       "    <tr style=\"text-align: right;\">\n",
       "      <th></th>\n",
       "      <th>id</th>\n",
       "      <th>relid</th>\n",
       "      <th>year</th>\n",
       "      <th>active_year</th>\n",
       "      <th>code_status</th>\n",
       "      <th>type_of_violence</th>\n",
       "      <th>conflict_dset_id</th>\n",
       "      <th>conflict_new_id</th>\n",
       "      <th>conflict_name</th>\n",
       "      <th>dyad_dset_id</th>\n",
       "      <th>...</th>\n",
       "      <th>date_end</th>\n",
       "      <th>deaths_a</th>\n",
       "      <th>deaths_b</th>\n",
       "      <th>deaths_civilians</th>\n",
       "      <th>deaths_unknown</th>\n",
       "      <th>best</th>\n",
       "      <th>high</th>\n",
       "      <th>low</th>\n",
       "      <th>gwnoa</th>\n",
       "      <th>gwnob</th>\n",
       "    </tr>\n",
       "  </thead>\n",
       "  <tbody>\n",
       "    <tr>\n",
       "      <th>0</th>\n",
       "      <td>NaN</td>\n",
       "      <td>NaN</td>\n",
       "      <td>#date+year</td>\n",
       "      <td>NaN</td>\n",
       "      <td>NaN</td>\n",
       "      <td>NaN</td>\n",
       "      <td>NaN</td>\n",
       "      <td>NaN</td>\n",
       "      <td>NaN</td>\n",
       "      <td>NaN</td>\n",
       "      <td>...</td>\n",
       "      <td>#date+end</td>\n",
       "      <td>NaN</td>\n",
       "      <td>NaN</td>\n",
       "      <td>NaN</td>\n",
       "      <td>NaN</td>\n",
       "      <td>#affected+killed</td>\n",
       "      <td>NaN</td>\n",
       "      <td>NaN</td>\n",
       "      <td>NaN</td>\n",
       "      <td>NaN</td>\n",
       "    </tr>\n",
       "    <tr>\n",
       "      <th>1</th>\n",
       "      <td>370840.0</td>\n",
       "      <td>ETH-2020-1-555-0</td>\n",
       "      <td>2020</td>\n",
       "      <td>1.0</td>\n",
       "      <td>Clear</td>\n",
       "      <td>1.0</td>\n",
       "      <td>267.0</td>\n",
       "      <td>267.0</td>\n",
       "      <td>Ethiopia: Government</td>\n",
       "      <td>555.0</td>\n",
       "      <td>...</td>\n",
       "      <td>2020-11-04 00:00:00.000</td>\n",
       "      <td>200.0</td>\n",
       "      <td>0.0</td>\n",
       "      <td>0.0</td>\n",
       "      <td>0.0</td>\n",
       "      <td>200</td>\n",
       "      <td>200.0</td>\n",
       "      <td>200.0</td>\n",
       "      <td>530.0</td>\n",
       "      <td>NaN</td>\n",
       "    </tr>\n",
       "    <tr>\n",
       "      <th>2</th>\n",
       "      <td>371338.0</td>\n",
       "      <td>ETH-2020-1-555-19</td>\n",
       "      <td>2020</td>\n",
       "      <td>1.0</td>\n",
       "      <td>Clear</td>\n",
       "      <td>1.0</td>\n",
       "      <td>267.0</td>\n",
       "      <td>267.0</td>\n",
       "      <td>Ethiopia: Government</td>\n",
       "      <td>555.0</td>\n",
       "      <td>...</td>\n",
       "      <td>2020-11-04 00:00:00.000</td>\n",
       "      <td>0.0</td>\n",
       "      <td>0.0</td>\n",
       "      <td>0.0</td>\n",
       "      <td>3.0</td>\n",
       "      <td>3</td>\n",
       "      <td>3.0</td>\n",
       "      <td>2.0</td>\n",
       "      <td>530.0</td>\n",
       "      <td>NaN</td>\n",
       "    </tr>\n",
       "    <tr>\n",
       "      <th>3</th>\n",
       "      <td>371058.0</td>\n",
       "      <td>ETH-2020-1-555-9</td>\n",
       "      <td>2020</td>\n",
       "      <td>1.0</td>\n",
       "      <td>Clear</td>\n",
       "      <td>1.0</td>\n",
       "      <td>267.0</td>\n",
       "      <td>267.0</td>\n",
       "      <td>Ethiopia: Government</td>\n",
       "      <td>555.0</td>\n",
       "      <td>...</td>\n",
       "      <td>2020-11-11 00:00:00.000</td>\n",
       "      <td>2.0</td>\n",
       "      <td>0.0</td>\n",
       "      <td>0.0</td>\n",
       "      <td>0.0</td>\n",
       "      <td>2</td>\n",
       "      <td>2.0</td>\n",
       "      <td>2.0</td>\n",
       "      <td>530.0</td>\n",
       "      <td>NaN</td>\n",
       "    </tr>\n",
       "    <tr>\n",
       "      <th>4</th>\n",
       "      <td>370947.0</td>\n",
       "      <td>ETH-2020-1-555-6</td>\n",
       "      <td>2020</td>\n",
       "      <td>1.0</td>\n",
       "      <td>Clear</td>\n",
       "      <td>1.0</td>\n",
       "      <td>267.0</td>\n",
       "      <td>267.0</td>\n",
       "      <td>Ethiopia: Government</td>\n",
       "      <td>555.0</td>\n",
       "      <td>...</td>\n",
       "      <td>2020-11-09 00:00:00.000</td>\n",
       "      <td>0.0</td>\n",
       "      <td>0.0</td>\n",
       "      <td>0.0</td>\n",
       "      <td>1.0</td>\n",
       "      <td>1</td>\n",
       "      <td>500.0</td>\n",
       "      <td>0.0</td>\n",
       "      <td>530.0</td>\n",
       "      <td>NaN</td>\n",
       "    </tr>\n",
       "  </tbody>\n",
       "</table>\n",
       "<p>5 rows × 50 columns</p>\n",
       "</div>"
      ],
      "text/plain": [
       "         id              relid        year  active_year code_status  \\\n",
       "0       NaN                NaN  #date+year          NaN         NaN   \n",
       "1  370840.0   ETH-2020-1-555-0        2020          1.0       Clear   \n",
       "2  371338.0  ETH-2020-1-555-19        2020          1.0       Clear   \n",
       "3  371058.0   ETH-2020-1-555-9        2020          1.0       Clear   \n",
       "4  370947.0   ETH-2020-1-555-6        2020          1.0       Clear   \n",
       "\n",
       "   type_of_violence  conflict_dset_id  conflict_new_id         conflict_name  \\\n",
       "0               NaN               NaN              NaN                   NaN   \n",
       "1               1.0             267.0            267.0  Ethiopia: Government   \n",
       "2               1.0             267.0            267.0  Ethiopia: Government   \n",
       "3               1.0             267.0            267.0  Ethiopia: Government   \n",
       "4               1.0             267.0            267.0  Ethiopia: Government   \n",
       "\n",
       "   dyad_dset_id  ...                 date_end deaths_a  deaths_b  \\\n",
       "0           NaN  ...                #date+end      NaN       NaN   \n",
       "1         555.0  ...  2020-11-04 00:00:00.000    200.0       0.0   \n",
       "2         555.0  ...  2020-11-04 00:00:00.000      0.0       0.0   \n",
       "3         555.0  ...  2020-11-11 00:00:00.000      2.0       0.0   \n",
       "4         555.0  ...  2020-11-09 00:00:00.000      0.0       0.0   \n",
       "\n",
       "   deaths_civilians deaths_unknown              best   high    low  gwnoa  \\\n",
       "0               NaN            NaN  #affected+killed    NaN    NaN    NaN   \n",
       "1               0.0            0.0               200  200.0  200.0  530.0   \n",
       "2               0.0            3.0                 3    3.0    2.0  530.0   \n",
       "3               0.0            0.0                 2    2.0    2.0  530.0   \n",
       "4               0.0            1.0                 1  500.0    0.0  530.0   \n",
       "\n",
       "  gwnob  \n",
       "0   NaN  \n",
       "1   NaN  \n",
       "2   NaN  \n",
       "3   NaN  \n",
       "4   NaN  \n",
       "\n",
       "[5 rows x 50 columns]"
      ]
     },
     "execution_count": 2,
     "metadata": {},
     "output_type": "execute_result"
    }
   ],
   "source": [
    "df = pd.read_csv('conflict_data_eth.csv')\n",
    "df.head()"
   ]
  },
  {
   "cell_type": "code",
   "execution_count": 3,
   "id": "237e519d",
   "metadata": {},
   "outputs": [
    {
     "data": {
      "text/plain": [
       "Index(['id', 'relid', 'year', 'active_year', 'code_status', 'type_of_violence',\n",
       "       'conflict_dset_id', 'conflict_new_id', 'conflict_name', 'dyad_dset_id',\n",
       "       'dyad_new_id', 'dyad_name', 'side_a_dset_id', 'side_a_new_id', 'side_a',\n",
       "       'side_b_dset_id', 'side_b_new_id', 'side_b', 'number_of_sources',\n",
       "       'source_article', 'source_office', 'source_date', 'source_headline',\n",
       "       'source_original', 'where_prec', 'where_coordinates',\n",
       "       'where_description', 'adm_1', 'adm_2', 'latitude', 'longitude',\n",
       "       'geom_wkt', 'priogrid_gid', 'country', 'iso3', 'country_id', 'region',\n",
       "       'event_clarity', 'date_prec', 'date_start', 'date_end', 'deaths_a',\n",
       "       'deaths_b', 'deaths_civilians', 'deaths_unknown', 'best', 'high', 'low',\n",
       "       'gwnoa', 'gwnob'],\n",
       "      dtype='object')"
      ]
     },
     "execution_count": 3,
     "metadata": {},
     "output_type": "execute_result"
    }
   ],
   "source": [
    "df.columns"
   ]
  },
  {
   "cell_type": "markdown",
   "id": "2baf5b67",
   "metadata": {},
   "source": [
    "#### Taking into condsideration the description of the dataset, I decided to let go a couple of the columuns \n",
    "\n",
    "The full description of the dataset can be found here https://data.humdata.org/dataset/ucdp-data-for-ethiopia?force_layout=desktop"
   ]
  },
  {
   "cell_type": "markdown",
   "id": "2188da78",
   "metadata": {},
   "source": [
    "###### Decided to add the duration of the conflict as a feature as I remove the start and end dates."
   ]
  },
  {
   "cell_type": "code",
   "execution_count": 4,
   "id": "96434af1",
   "metadata": {},
   "outputs": [],
   "source": [
    "df=df.drop([0])"
   ]
  },
  {
   "cell_type": "code",
   "execution_count": 5,
   "id": "5b3be177",
   "metadata": {},
   "outputs": [],
   "source": [
    "def Duration(d1, d2):\n",
    "    d1=d1[:10]\n",
    "    d2=d2[:10]\n",
    "\n",
    "    d1 = date(int(d1[:4]), int(d1[5:-3]), int(d1[-2:]))\n",
    "\n",
    "    d2 = date(int(d2[:4]), int(d2[5:-3]), int(d2[-2:]))\n",
    "\n",
    "    if d2 > d1:  \n",
    "        return (d2-d1).days\n",
    "    else:\n",
    "        return (d1-d2).days\n"
   ]
  },
  {
   "cell_type": "code",
   "execution_count": 6,
   "id": "683de358",
   "metadata": {},
   "outputs": [],
   "source": [
    "duration=[] \n",
    "\n",
    "for i,j in zip(df['date_start'].values,df['date_end'].values):\n",
    "    duration.append(Duration(i,j))"
   ]
  },
  {
   "cell_type": "code",
   "execution_count": 7,
   "id": "84688b83",
   "metadata": {},
   "outputs": [],
   "source": [
    "df['duration']=duration"
   ]
  },
  {
   "cell_type": "code",
   "execution_count": null,
   "id": "abd266f5",
   "metadata": {},
   "outputs": [],
   "source": [
    "# y=list(1*(df['deaths_civilians'].values>0))"
   ]
  },
  {
   "cell_type": "code",
   "execution_count": 8,
   "id": "af161b61",
   "metadata": {},
   "outputs": [],
   "source": [
    "df=df.drop([\n",
    "    'longitude', 'latitude','id','geom_wkt','gwnoa',\n",
    "         'where_prec','where_description','where_coordinates','conflict_new_id','gwnob',\n",
    "         'country','iso3','country_id','region','code_status',\n",
    "            'source_office','source_date','source_headline','source_office','source_original',\n",
    "           'dyad_dset_id', 'dyad_new_id','side_a_dset_id','side_a_new_id','conflict_dset_id','priogrid_gid',\n",
    "        'side_b_dset_id','side_b_new_id',\n",
    "    'source_article','number_of_sources','conflict_name',\n",
    "    'date_prec','event_clarity','year',\n",
    "    'date_start','date_end', 'high','low','best','dyad_name','relid'\n",
    "], axis=1)"
   ]
  },
  {
   "cell_type": "markdown",
   "id": "81b2017d",
   "metadata": {},
   "source": [
    "#### I choose to remove the row with missing values. "
   ]
  },
  {
   "cell_type": "code",
   "execution_count": 9,
   "id": "96e3f90b",
   "metadata": {},
   "outputs": [],
   "source": [
    "df = df.dropna() \n",
    "y=list(1*(df['deaths_civilians'].values>0))\n",
    "# y=df['deaths_civilians']\n",
    "df=df.drop([ 'deaths_civilians'], axis=1)"
   ]
  },
  {
   "cell_type": "code",
   "execution_count": 10,
   "id": "91006cac",
   "metadata": {},
   "outputs": [],
   "source": [
    "df['label']=y"
   ]
  },
  {
   "cell_type": "code",
   "execution_count": 11,
   "id": "605ccc14",
   "metadata": {},
   "outputs": [
    {
     "data": {
      "text/plain": [
       "<seaborn.axisgrid.FacetGrid at 0x7fd3c47cea30>"
      ]
     },
     "execution_count": 11,
     "metadata": {},
     "output_type": "execute_result"
    },
    {
     "data": {
      "image/png": "[encoded data removed]",
      "text/plain": [
       "<Figure size 360x360 with 1 Axes>"
      ]
     },
     "metadata": {
      "needs_background": "light"
     },
     "output_type": "display_data"
    }
   ],
   "source": [
    "# Explore Target distribution \n",
    "sns.catplot(x=\"label\", kind=\"count\", data=df)"
   ]
  },
  {
   "cell_type": "markdown",
   "id": "a0dc73e0",
   "metadata": {},
   "source": [
    "### There is class imbalance between the two classes"
   ]
  },
  {
   "cell_type": "code",
   "execution_count": 18,
   "id": "f22bcc0a",
   "metadata": {},
   "outputs": [
    {
     "name": "stdout",
     "output_type": "stream",
     "text": [
      "<class 'pandas.core.frame.DataFrame'>\n",
      "Int64Index: 2390 entries, 1 to 2903\n",
      "Data columns (total 10 columns):\n",
      " #   Column            Non-Null Count  Dtype  \n",
      "---  ------            --------------  -----  \n",
      " 0   active_year       2390 non-null   float64\n",
      " 1   type_of_violence  2390 non-null   float64\n",
      " 2   side_a            2390 non-null   int64  \n",
      " 3   side_b            2390 non-null   int64  \n",
      " 4   adm_1             2390 non-null   int64  \n",
      " 5   adm_2             2390 non-null   int64  \n",
      " 6   deaths_a          2390 non-null   float64\n",
      " 7   deaths_b          2390 non-null   float64\n",
      " 8   deaths_unknown    2390 non-null   float64\n",
      " 9   duration          2390 non-null   int64  \n",
      "dtypes: float64(5), int64(5)\n",
      "memory usage: 269.9 KB\n"
     ]
    }
   ],
   "source": [
    "df.info()"
   ]
  },
  {
   "cell_type": "markdown",
   "id": "65f64dd5",
   "metadata": {},
   "source": [
    "#### transform the data into suitable format"
   ]
  },
  {
   "cell_type": "code",
   "execution_count": 19,
   "id": "a936816d",
   "metadata": {},
   "outputs": [],
   "source": [
    "# Cobvert target label to numerical Data\n",
    "le = LabelEncoder()\n",
    "\n",
    "df[\"side_b\"] = le.fit_transform(df[\"side_b\"])\n",
    "df[\"side_a\"] = le.fit_transform(df[\"side_a\"])\n",
    "\n",
    "df[\"adm_1\"] = le.fit_transform(df[\"adm_1\"])\n",
    "df[\"adm_2\"] = le.fit_transform(df[\"adm_2\"])\n",
    "\n",
    "scaler = MinMaxScaler(feature_range=(0, 1))\n",
    "data = scaler.fit_transform(df)"
   ]
  },
  {
   "cell_type": "code",
   "execution_count": 20,
   "id": "6b480379",
   "metadata": {},
   "outputs": [
    {
     "data": {
      "text/plain": [
       "array([[1.        , 0.        , 0.62162162, ..., 0.        , 0.        ,\n",
       "        0.00273973],\n",
       "       [1.        , 0.        , 0.62162162, ..., 0.        , 0.003     ,\n",
       "        0.00273973],\n",
       "       [1.        , 0.        , 0.62162162, ..., 0.        , 0.        ,\n",
       "        0.01917808],\n",
       "       ...,\n",
       "       [1.        , 1.        , 0.59459459, ..., 0.        , 0.        ,\n",
       "        0.        ],\n",
       "       [1.        , 1.        , 0.59459459, ..., 0.        , 0.        ,\n",
       "        0.02191781],\n",
       "       [1.        , 0.5       , 0.05405405, ..., 0.        , 0.05      ,\n",
       "        0.00273973]])"
      ]
     },
     "execution_count": 20,
     "metadata": {},
     "output_type": "execute_result"
    }
   ],
   "source": [
    "data"
   ]
  },
  {
   "cell_type": "code",
   "execution_count": 21,
   "id": "5ebf60e0",
   "metadata": {},
   "outputs": [
    {
     "data": {
      "text/plain": [
       "(2390, (2390, 10))"
      ]
     },
     "execution_count": 21,
     "metadata": {},
     "output_type": "execute_result"
    }
   ],
   "source": [
    "len(y),data.shape"
   ]
  },
  {
   "cell_type": "code",
   "execution_count": 22,
   "id": "5f7b1519",
   "metadata": {},
   "outputs": [],
   "source": [
    "X_Train, X_Val, y_Train, y_val = train_test_split(data, y, test_size = 0.2, random_state=42)"
   ]
  },
  {
   "cell_type": "markdown",
   "id": "13c5c171",
   "metadata": {},
   "source": [
    "### Pre processing completed, and model building "
   ]
  },
  {
   "cell_type": "markdown",
   "id": "4edf00af",
   "metadata": {},
   "source": [
    "## Using Neural Networks"
   ]
  },
  {
   "cell_type": "code",
   "execution_count": 51,
   "id": "5d69593e",
   "metadata": {},
   "outputs": [],
   "source": [
    "import torch\n",
    "from torch import nn\n",
    "from torch.nn import functional as F\n",
    "from torch.utils.data import Dataset\n",
    "from torch import optim\n",
    "\n",
    "import random\n",
    "def seed_all(seed):\n",
    "    if not seed:\n",
    "        seed = 10\n",
    "    torch.manual_seed(seed)\n",
    "    np.random.seed(seed)\n",
    "    random.seed(seed)\n",
    "    torch.backends.cudnn.deterministic = True\n",
    "    torch.backends.cudnn.benchmark = False\n",
    "seed_all(1)"
   ]
  },
  {
   "cell_type": "markdown",
   "id": "215a90a4",
   "metadata": {},
   "source": [
    "#### Dataset and data loader"
   ]
  },
  {
   "cell_type": "code",
   "execution_count": 55,
   "id": "709d5087",
   "metadata": {},
   "outputs": [],
   "source": [
    "class Data(Dataset):\n",
    "    def __init__(self, x, y):\n",
    "        self.x=x\n",
    "        self.y=y\n",
    "            \n",
    "    def __getitem__(self, i):\n",
    "        y=self.y[i]\n",
    "        x= self.x[i]\n",
    "        return x,y\n",
    "\n",
    "    def __len__(self):\n",
    "        return len(self.x)\n",
    "    \n",
    "bs=64\n",
    "\n",
    "train_loader = torch.utils.data.DataLoader(dataset=Data(X_Train,y_Train), batch_size=bs)\n",
    "test_loader = torch.utils.data.DataLoader(dataset=Data(X_Val,y_val), batch_size=bs,shuffle=False)"
   ]
  },
  {
   "cell_type": "markdown",
   "id": "8c40f856",
   "metadata": {},
   "source": [
    "## Define a Neural Network model"
   ]
  },
  {
   "cell_type": "code",
   "execution_count": 57,
   "id": "a65a9120",
   "metadata": {},
   "outputs": [],
   "source": [
    "class Model(torch.nn.Module):\n",
    "    def __init__(self, n_features):\n",
    "        super(Model, self).__init__()\n",
    "        self.layer1 = nn.Linear(n_features, 50)\n",
    "        self.layer2= nn.Linear(50, 30)\n",
    "        self.layer3= nn.Linear(30, 10)\n",
    "        self.out = nn.Linear(10, 1)\n",
    "        self.dropout_1 = nn.Dropout(.3) \n",
    "        self.dropout_2 = nn.Dropout(.1) \n",
    "\n",
    "    def forward(self, x):\n",
    "        x = F.relu(self.layer1(x))\n",
    "        x = self.dropout_1(x)\n",
    "        x = F.relu(self.layer2(x))\n",
    "        x = self.dropout_2(x)\n",
    "        x = F.relu(self.layer3(x))\n",
    "#         x=self.layer3(x)\n",
    "        x=self.out(x)\n",
    "        x= torch.sigmoid(x)\n",
    "        return x\n",
    "    \n",
    "in_features=(X_Train.shape[1])"
   ]
  },
  {
   "cell_type": "markdown",
   "id": "2474ca1a",
   "metadata": {},
   "source": [
    "## Choosing appropriate loss function, optimizer, learning rate,  ...\n",
    "\n",
    "\n",
    "### SGD optimizer performed worse, then selected Adam\n",
    "### Binary cross entropy is a suitable loss function for the problem\n",
    "### I started with few epoches, then escalated to 1000 ...which worked better"
   ]
  },
  {
   "cell_type": "code",
   "execution_count": 108,
   "id": "7674b82b",
   "metadata": {},
   "outputs": [],
   "source": [
    "\n",
    "lr=.00001\n",
    "model=Model(in_features)\n",
    "optimizer=optim.Adam(model.parameters(), lr=lr)\n",
    "\n",
    "\n",
    "criterion = nn.BCELoss()\n",
    "epoches=100"
   ]
  },
  {
   "cell_type": "markdown",
   "id": "7fbed2e6",
   "metadata": {},
   "source": [
    "### Train"
   ]
  },
  {
   "cell_type": "code",
   "execution_count": 70,
   "id": "8cb004c9",
   "metadata": {},
   "outputs": [
    {
     "name": "stderr",
     "output_type": "stream",
     "text": [
      "To copy construct from a tensor, it is recommended to use sourceTensor.clone().detach() or sourceTensor.clone().detach().requires_grad_(True), rather than torch.tensor(sourceTensor).\n",
      "To copy construct from a tensor, it is recommended to use sourceTensor.clone().detach() or sourceTensor.clone().detach().requires_grad_(True), rather than torch.tensor(sourceTensor).\n"
     ]
    }
   ],
   "source": [
    "epoches=1000\n",
    "for epoch in range(epoches):\n",
    "    for inputs, target in train_loader:\n",
    "#     for in\n",
    "        optimizer.zero_grad()\n",
    "        y_pred=model(torch.tensor(inputs).float())  \n",
    "\n",
    "        label=torch.unsqueeze(torch.tensor(target).float(), dim=1)\n",
    "        loss = criterion(y_pred, label)\n",
    "\n",
    "        loss.backward()\n",
    "        optimizer.step()\n",
    "    if epoches%100==100:\n",
    "        print(loss.item())\n"
   ]
  },
  {
   "cell_type": "markdown",
   "id": "36b32ab7",
   "metadata": {},
   "source": [
    "### test"
   ]
  },
  {
   "cell_type": "code",
   "execution_count": 73,
   "id": "cf8dc4ac",
   "metadata": {},
   "outputs": [
    {
     "data": {
      "text/plain": [
       "Model(\n",
       "  (layer1): Linear(in_features=10, out_features=50, bias=True)\n",
       "  (layer2): Linear(in_features=50, out_features=30, bias=True)\n",
       "  (layer3): Linear(in_features=30, out_features=10, bias=True)\n",
       "  (out): Linear(in_features=10, out_features=1, bias=True)\n",
       "  (dropout_1): Dropout(p=0.3, inplace=False)\n",
       "  (dropout_2): Dropout(p=0.1, inplace=False)\n",
       ")"
      ]
     },
     "execution_count": 73,
     "metadata": {},
     "output_type": "execute_result"
    }
   ],
   "source": [
    "model.eval()"
   ]
  },
  {
   "cell_type": "code",
   "execution_count": 97,
   "id": "ba9f4cd3",
   "metadata": {},
   "outputs": [
    {
     "data": {
      "text/plain": [
       "0.9288702928870293"
      ]
     },
     "execution_count": 97,
     "metadata": {},
     "output_type": "execute_result"
    }
   ],
   "source": [
    "pred_nn=model(torch.tensor(test_loader.dataset.x).float())\n",
    "sum(np.array(1*(pred_nn.squeeze()>0.5))==np.array(test_loader.dataset.y))/len(test_loader.dataset.y)"
   ]
  },
  {
   "cell_type": "markdown",
   "id": "62601a87",
   "metadata": {},
   "source": [
    "#### The neural network model achived 92.8 \\%"
   ]
  },
  {
   "cell_type": "markdown",
   "id": "9b8015a4",
   "metadata": {},
   "source": [
    "# ",
    "## How can we optimizer it ? Can we use Neural Networks\n",
    "\n",
    "### There are many ways but here I try to show how regularization can help in performance improvment even when the number of epoches is halved. This saves time while increasing performance."
   ]
  },
  {
   "cell_type": "code",
   "execution_count": 122,
   "id": "c238de10",
   "metadata": {},
   "outputs": [
    {
     "name": "stderr",
     "output_type": "stream",
     "text": [
      "To copy construct from a tensor, it is recommended to use sourceTensor.clone().detach() or sourceTensor.clone().detach().requires_grad_(True), rather than torch.tensor(sourceTensor).\n",
      "To copy construct from a tensor, it is recommended to use sourceTensor.clone().detach() or sourceTensor.clone().detach().requires_grad_(True), rather than torch.tensor(sourceTensor).\n"
     ]
    }
   ],
   "source": [
    "model=Model(in_features)\n",
    "lr=.001\n",
    "optimizer=optim.Adam(model.parameters(), lr=lr)\n",
    "epoches=500\n",
    "\n",
    "model.train()\n",
    "\n",
    "for epoch in range(epoches):\n",
    "    for inputs, target in train_loader:\n",
    "#     for in\n",
    "        optimizer.zero_grad()\n",
    "        y_pred=model(torch.tensor(inputs).float())  \n",
    "\n",
    "        label=torch.unsqueeze(torch.tensor(target).float(), dim=1)\n",
    "        loss = criterion(y_pred, label)\n",
    "        \n",
    "        \n",
    "        l2_lambda = 0.001     # hyperparameters for regularization\n",
    "        l2_norm = sum(p.pow(2.0).sum() for p in model.parameters())\n",
    "\n",
    "\n",
    "        loss = loss + l2_lambda * l2_norm\n",
    "\n",
    "        loss.backward()\n",
    "        optimizer.step()\n",
    "    if epoches%100==100:\n",
    "        print(loss.item())"
   ]
  },
  {
   "cell_type": "code",
   "execution_count": 123,
   "id": "8ba2cbd8",
   "metadata": {},
   "outputs": [
    {
     "data": {
      "text/plain": [
       "0.9309623430962343"
      ]
     },
     "execution_count": 123,
     "metadata": {},
     "output_type": "execute_result"
    }
   ],
   "source": [
    "pred_nn=model(torch.tensor(test_loader.dataset.x).float())\n",
    "sum(np.array(1*(pred_nn.squeeze()>0.5))==np.array(test_loader.dataset.y))/len(test_loader.dataset.y)"
   ]
  },
  {
   "cell_type": "markdown",
   "id": "2f08d958",
   "metadata": {},
   "source": [
    "### As it can be seen, the regularization increase the performance of the NN model"
   ]
  },
  {
   "cell_type": "markdown",
   "id": "f1621205",
   "metadata": {},
   "source": [
    "# Explainablity phase using SHAP\n",
    "\n",
    "\n",
    "For explainability, I will use shap because it is model agnostice and suitable for such tabular data. "
   ]
  },
  {
   "cell_type": "code",
   "execution_count": 98,
   "id": "9c5198d3",
   "metadata": {},
   "outputs": [],
   "source": [
    "import shap"
   ]
  },
  {
   "cell_type": "code",
   "execution_count": 101,
   "id": "68f645b5",
   "metadata": {},
   "outputs": [
    {
     "name": "stderr",
     "output_type": "stream",
     "text": [
      "Using a non-full backward hook when the forward contains multiple autograd Nodes is deprecated and will be removed in future versions. This hook will be missing some grad_input. Please use register_full_backward_hook to get the documented behavior.\n"
     ]
    }
   ],
   "source": [
    "explainer = shap.DeepExplainer(model,torch.tensor(train_loader.dataset.x).float())\n",
    "shap_values = explainer.shap_values(torch.tensor(test_loader.dataset.x).float())"
   ]
  },
  {
   "cell_type": "code",
   "execution_count": 107,
   "id": "5a716247",
   "metadata": {},
   "outputs": [
    {
     "data": {
      "image/png": "[encoded data removed]",
      "text/plain": [
       "<Figure size 576x396 with 1 Axes>"
      ]
     },
     "metadata": {
      "needs_background": "light"
     },
     "output_type": "display_data"
    }
   ],
   "source": [
    "shap.summary_plot(shap_values, plot_type = 'bar', feature_names = list(df.columns.values))"
   ]
  },
  {
   "cell_type": "markdown",
   "id": "f8e20d2d",
   "metadata": {},
   "source": [
    "## Discussion \n",
    "\n",
    "The attribution above shows that the important features the model used to decide whather there will be a fatality of civilians \n",
    "or not. The top four are the most important features according to the shap algorithm. This information can be utlized for decision making in the context of applying the model for resouce/ aid allocation. Further, if the model is turned in to a regression model so that it can show the number of the actual number of fatalities, it becomes much more useful. Addiontally, future conflicts can be addressed by looking at early signs of these attributes.\n",
    "\n"
   ]
  },
  {
   "cell_type": "markdown",
   "id": "18631251",
   "metadata": {},
   "source": [
    "## One way to do a good decision support research is to traingulate. So, now I try to use a tree algorithm"
   ]
  },
  {
   "cell_type": "code",
   "execution_count": 116,
   "id": "3981cf67",
   "metadata": {},
   "outputs": [
    {
     "name": "stdout",
     "output_type": "stream",
     "text": [
      "Model accuracy score with 10 decision-trees : 0.9393\n"
     ]
    }
   ],
   "source": [
    "from sklearn.ensemble import RandomForestClassifier\n",
    "from sklearn.metrics import confusion_matrix\n",
    "\n",
    "random_forest_model=clf = RandomForestClassifier( max_depth = 4, max_features = 3, bootstrap = True, random_state = 18)\n",
    "\n",
    "random_forest_model.fit(X_Train, y_Train)\n",
    "\n",
    "y_pred = clf.predict(X_Val)\n",
    "\n",
    "print('Model accuracy score with 10 decision-trees : {0:0.4f}'. format(accuracy_score(y_val, y_pred)))\n"
   ]
  },
  {
   "cell_type": "markdown",
   "id": "2d121fdd",
   "metadata": {},
   "source": [
    "### Interpreting the tree based model"
   ]
  },
  {
   "cell_type": "code",
   "execution_count": 119,
   "id": "4f887031",
   "metadata": {},
   "outputs": [
    {
     "name": "stdout",
     "output_type": "stream",
     "text": [
      "side_b              0.420733\n",
      "type_of_violence    0.398402\n",
      "adm_1               0.084098\n",
      "deaths_unknown      0.029985\n",
      "adm_2               0.018925\n",
      "duration            0.013662\n",
      "deaths_a            0.011060\n",
      "side_a              0.010330\n",
      "active_year         0.009802\n",
      "deaths_b            0.003004\n",
      "dtype: float64\n"
     ]
    }
   ],
   "source": [
    "feature_scores = pd.Series(random_forest_model.feature_importances_, index=df.columns).sort_values(ascending=False)\n",
    "\n",
    "print(feature_scores)"
   ]
  },
  {
   "cell_type": "markdown",
   "id": "aee23b13",
   "metadata": {},
   "source": [
    "##### A key difference between the two explanations/ model interpretaions is that there is a slight difference between attrubutions. But the top attributes (side_b, and type_of_violence) are informative of the weather or not there will be a civilian life loss in a conflict."
   ]
  },
  {
   "cell_type": "code",
   "execution_count": 121,
   "id": "c4c62c98",
   "metadata": {},
   "outputs": [
    {
     "name": "stdout",
     "output_type": "stream",
     "text": [
      "Confusion matrix\n",
      "\n",
      " [[320   4]\n",
      " [ 25 129]]\n",
      "              precision    recall  f1-score   support\n",
      "\n",
      "           0       0.93      0.99      0.96       324\n",
      "           1       0.97      0.84      0.90       154\n",
      "\n",
      "    accuracy                           0.94       478\n",
      "   macro avg       0.95      0.91      0.93       478\n",
      "weighted avg       0.94      0.94      0.94       478\n",
      "\n"
     ]
    }
   ],
   "source": [
    "cm = confusion_matrix(y_val, y_pred)\n",
    "print('Confusion matrix\\n\\n', cm)\n",
    "\n",
    "\n",
    "from sklearn.metrics import classification_report\n",
    "print(classification_report(y_val, y_pred))"
   ]
  },
  {
   "cell_type": "markdown",
   "id": "bc1a6637",
   "metadata": {},
   "source": [
    "# Key take aways"
   ]
  },
  {
   "cell_type": "markdown",
   "id": "98b49c57",
   "metadata": {},
   "source": [
    "#### The data provided can be used by ML algorithm for public policy usage\n",
    "#### Potential bias might arise from places where there might have been less data\n",
    "#### The attributions can be slightly different from model to model.\n",
    "#### In a real world situation, this can be used for good but this same data can be exploited by external forces"
   ]
  },
  {
   "cell_type": "code",
   "execution_count": null,
   "id": "dda49612",
   "metadata": {},
   "outputs": [],
   "source": []
  }
 ],
 "metadata": {
  "kernelspec": {
   "display_name": "Python 3 (ipykernel)",
   "language": "python",
   "name": "python3"
  },
  "language_info": {
   "codemirror_mode": {
    "name": "ipython",
    "version": 3
   },
   "file_extension": ".py",
   "mimetype": "text/x-python",
   "name": "python",
   "nbconvert_exporter": "python",
   "pygments_lexer": "ipython3",
   "version": "3.8.10"
  }
 },
 "nbformat": 4,
 "nbformat_minor": 5
}
